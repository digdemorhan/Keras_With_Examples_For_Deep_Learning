{
  "nbformat": 4,
  "nbformat_minor": 0,
  "metadata": {
    "colab": {
      "provenance": [],
      "authorship_tag": "ABX9TyNtqF5Ek8NX9acn9yANfgFG",
      "include_colab_link": true
    },
    "kernelspec": {
      "name": "python3",
      "display_name": "Python 3"
    },
    "language_info": {
      "name": "python"
    }
  },
  "cells": [
    {
      "cell_type": "markdown",
      "metadata": {
        "id": "view-in-github",
        "colab_type": "text"
      },
      "source": [
        "<a href=\"https://colab.research.google.com/github/digdemorhan/Keras_With_Examples_For_Deep_Learning/blob/main/NeuralNetworkRegression.ipynb\" target=\"_parent\"><img src=\"https://colab.research.google.com/assets/colab-badge.svg\" alt=\"Open In Colab\"/></a>"
      ]
    },
    {
      "cell_type": "code",
      "source": [
        "#Datasetin yüklenmesi için fonksiyonun import edilmesi\n",
        "from sklearn.datasets import fetch_california_housing\n",
        "\n",
        "#Datasetin değişkene atanması\n",
        "housing = fetch_california_housing()\n",
        "\n",
        "#Datasetin parçalanması için ilgili fonksiyonun import edilmesi\n",
        "from sklearn.model_selection import train_test_split\n",
        "\n",
        "#Datasetin eğitim ve test olarak parçalanması\n",
        "X_train_full, X_test, y_train_full, y_test = train_test_split(housing.data, housing.target, random_state=42)\n",
        "\n",
        "#Validation parametresinin oluşturulması\n",
        "X_train, X_valid, y_train, y_valid = train_test_split(X_train_full, y_train_full, random_state=42)\n",
        "\n",
        "#Modelin kurulması\n",
        "from sklearn.neural_network import MLPRegressor\n",
        "\n",
        "#Sınıftan örnek alınması\n",
        "mlp_reg = MLPRegressor(hidden_layer_sizes=[50,50,50], random_state=42)\n",
        "\n",
        "#Datasetteki sayısal değerlerin standartlaştırılması\n",
        "from sklearn.preprocessing import StandardScaler\n",
        "\n",
        "#Pipeline'ın import edilmesi\n",
        "from sklearn.pipeline import make_pipeline\n",
        "\n",
        "#Pipeline'ın inşa edilmesi\n",
        "pipeline = make_pipeline(StandardScaler(), mlp_reg)\n",
        "\n",
        "#Modelin eğitimi\n",
        "pipeline.fit(X_train, y_train)\n",
        "\n",
        "#Validation verilerinin tahmini\n",
        "y_pred = pipeline.predict(X_valid)\n",
        "\n",
        "#Modelin tahmin hatası\n",
        "from sklearn.metrics import mean_squared_error\n",
        "rmse = mean_squared_error(y_valid, y_pred, squared=False)\n",
        "\n",
        "print(rmse)"
      ],
      "metadata": {
        "colab": {
          "base_uri": "https://localhost:8080/"
        },
        "id": "BAd2kThXK-qK",
        "outputId": "b3689734-44fe-44e2-ef5f-886b7e665cdb"
      },
      "execution_count": null,
      "outputs": [
        {
          "output_type": "stream",
          "name": "stdout",
          "text": [
            "0.5053326657968679\n"
          ]
        },
        {
          "output_type": "stream",
          "name": "stderr",
          "text": [
            "/usr/local/lib/python3.10/dist-packages/sklearn/metrics/_regression.py:492: FutureWarning: 'squared' is deprecated in version 1.4 and will be removed in 1.6. To calculate the root mean squared error, use the function'root_mean_squared_error'.\n",
            "  warnings.warn(\n"
          ]
        }
      ]
    }
  ]
}