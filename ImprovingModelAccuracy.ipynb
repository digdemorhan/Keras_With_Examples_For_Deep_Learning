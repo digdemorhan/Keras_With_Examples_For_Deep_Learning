{
  "nbformat": 4,
  "nbformat_minor": 0,
  "metadata": {
    "colab": {
      "provenance": [],
      "gpuType": "T4",
      "authorship_tag": "ABX9TyMOR19ImyNV80ZUFVP+/+2f",
      "include_colab_link": true
    },
    "kernelspec": {
      "name": "python3",
      "display_name": "Python 3"
    },
    "language_info": {
      "name": "python"
    },
    "accelerator": "GPU"
  },
  "cells": [
    {
      "cell_type": "markdown",
      "metadata": {
        "id": "view-in-github",
        "colab_type": "text"
      },
      "source": [
        "<a href=\"https://colab.research.google.com/github/digdemorhan/Keras_With_Examples_For_Deep_Learning/blob/main/ImprovingModelAccuracy.ipynb\" target=\"_parent\"><img src=\"https://colab.research.google.com/assets/colab-badge.svg\" alt=\"Open In Colab\"/></a>"
      ]
    },
    {
      "cell_type": "markdown",
      "source": [
        "**Bu uygulama için MNIST veriseti kullanılacaktır. Bu veriseti 28x28 boyutlarında rakamların görüntülerinden oluşur.**"
      ],
      "metadata": {
        "id": "m17-hlDeCLQ0"
      }
    },
    {
      "cell_type": "code",
      "execution_count": 5,
      "metadata": {
        "id": "Gp3ukDsh90bo"
      },
      "outputs": [],
      "source": [
        "#Gerekli kütüphanelerin yüklenmesi\n",
        "import tensorflow as tf\n",
        "from tensorflow import keras"
      ]
    },
    {
      "cell_type": "code",
      "source": [
        "#Verisetinin yüklenmesi\n",
        "from tensorflow.keras.datasets import mnist"
      ],
      "metadata": {
        "id": "SdRMajruCZeF"
      },
      "execution_count": 4,
      "outputs": []
    },
    {
      "cell_type": "code",
      "source": [
        "#Eğitim ve test verilerinin yüklenmesi\n",
        "(X_train, y_train), (X_test, y_test) = mnist.load_data()"
      ],
      "metadata": {
        "colab": {
          "base_uri": "https://localhost:8080/",
          "height": 0
        },
        "id": "jkomYMYMClVd",
        "outputId": "33cc95d0-f810-4b7b-c695-31096278a60d"
      },
      "execution_count": 6,
      "outputs": [
        {
          "output_type": "stream",
          "name": "stdout",
          "text": [
            "Downloading data from https://storage.googleapis.com/tensorflow/tf-keras-datasets/mnist.npz\n",
            "\u001b[1m11490434/11490434\u001b[0m \u001b[32m━━━━━━━━━━━━━━━━━━━━\u001b[0m\u001b[37m\u001b[0m \u001b[1m2s\u001b[0m 0us/step\n"
          ]
        }
      ]
    },
    {
      "cell_type": "code",
      "source": [
        "#Eğitim ve test verilerinin yapısının kontrolü\n",
        "print(X_train.shape, y_train.shape)\n",
        "print(X_test.shape, y_test.shape)"
      ],
      "metadata": {
        "colab": {
          "base_uri": "https://localhost:8080/",
          "height": 0
        },
        "id": "9Bh_GgnRCu9i",
        "outputId": "9c74e204-6e50-4c8a-f14f-eb993d46f0d7"
      },
      "execution_count": 8,
      "outputs": [
        {
          "output_type": "stream",
          "name": "stdout",
          "text": [
            "(60000, 28, 28) (60000,)\n",
            "(10000, 28, 28) (10000,)\n"
          ]
        }
      ]
    },
    {
      "cell_type": "markdown",
      "source": [
        "**Yukarıdaki kodun çıktısından da görüldüğü üzere eğitim girdi değişkeni 28x28 60.000 veriden, eğitim sonuç değişkeni 1 boyutlu 60.000 veriden oluşur. Test verileri 28x28 10.000 veriden, test sonuç değişkeni 1 boyutlu 10.000 etiketten oluşur.**"
      ],
      "metadata": {
        "id": "7pTGO94SC6GE"
      }
    },
    {
      "cell_type": "code",
      "source": [
        "#Modelin kurulması\n",
        "model = tf.keras.models.Sequential([\n",
        "    tf.keras.layers.Flatten(input_shape=(28,28)),\n",
        "    tf.keras.layers.Dense(512, activation=\"relu\"),\n",
        "    tf.keras.layers.Dense(512, activation=\"relu\"),\n",
        "    tf.keras.layers.Dense(10, activation=\"softmax\")\n",
        "])"
      ],
      "metadata": {
        "id": "3KmrH5pVDU7Q"
      },
      "execution_count": 10,
      "outputs": []
    },
    {
      "cell_type": "markdown",
      "source": [
        "**Yukarıdaki kodda model Sequential ile kurulmuştur.**\n",
        "*   **Flatten Katmanı: 2 boyutlu resimleri 1 boyuta çevirir.**\n",
        "*   **Dense Katmanı: İlk katman olacaktır. Bu katmandaki nöronlar, bir önceki katmandaki bütün nöronlara bağlanır.**\n",
        "*   **İkinci Dense Katmanı: Bu katman ilk gizli katmandır ve yine 512 nörondan oluşmaktadır.**\n",
        "*   **Üçüncü Dense Katmanı: Bu katman çıktı katmanıdır. Sonuç değişkeni 10 kategoriden oluştuğu için 10 nöron, problem çok kategorili bir sınıflandırma problemi olduğu için activation fonksiyonu \"softmax\" alınmıştır.**\n"
      ],
      "metadata": {
        "id": "yEKMMkAPDfz3"
      }
    },
    {
      "cell_type": "code",
      "source": [
        "#Modelin compile edilmesi\n",
        "model.compile(\n",
        "    loss = \"sparse_categorical_crossentropy\",\n",
        "    optimizer = \"adam\",\n",
        "    metrics = [\"accuracy\"]\n",
        ")"
      ],
      "metadata": {
        "id": "n3tQswWOEts9"
      },
      "execution_count": 11,
      "outputs": []
    },
    {
      "cell_type": "markdown",
      "source": [
        "**Model compile edilirken loss, optimizer ve metric değerleri belirlenir.**\n",
        "**Bu problem bir sınıflandırma problemidir. Sonuç dğeişkeni 0-9 aralığındaki rakamlardan oluşmaktadır. Bu rakamlar arasında bir büyüklük-küçüklük durumu bulunmamaktadır, bunlar sadece etikettir. Problemin bunu anlaması için bu etiketlerin one-hot coding'e çevrilmesi gerekir. Bu, Keras'ta bulunan \"to_categorical()\" metodu ile yapılabilir. Bunun yerine daha kısa bir yol olan \"sparse_categorical_crossentropy\" loss fonksiyonu tercih edilebilir. Eğer sonuç değişkenleri \"to_categorical()\" metodu ile one-hot coding'e çevrilirse sadece \"categorical_crossentropy\" loss fonksiyonu kullanılır.**"
      ],
      "metadata": {
        "id": "CreGARTeE0_7"
      }
    },
    {
      "cell_type": "code",
      "source": [
        "#Modelin eğitimi\n",
        "model.fit(X_train, y_train, epochs=10)"
      ],
      "metadata": {
        "colab": {
          "base_uri": "https://localhost:8080/",
          "height": 0
        },
        "id": "PUW2AV58LeNF",
        "outputId": "71bd7551-3143-4380-b362-fa29e8c99c99"
      },
      "execution_count": 12,
      "outputs": [
        {
          "output_type": "stream",
          "name": "stdout",
          "text": [
            "Epoch 1/10\n",
            "\u001b[1m1875/1875\u001b[0m \u001b[32m━━━━━━━━━━━━━━━━━━━━\u001b[0m\u001b[37m\u001b[0m \u001b[1m5s\u001b[0m 2ms/step - accuracy: 0.8607 - loss: 4.9703\n",
            "Epoch 2/10\n",
            "\u001b[1m1875/1875\u001b[0m \u001b[32m━━━━━━━━━━━━━━━━━━━━\u001b[0m\u001b[37m\u001b[0m \u001b[1m4s\u001b[0m 2ms/step - accuracy: 0.9486 - loss: 0.2060\n",
            "Epoch 3/10\n",
            "\u001b[1m1875/1875\u001b[0m \u001b[32m━━━━━━━━━━━━━━━━━━━━\u001b[0m\u001b[37m\u001b[0m \u001b[1m4s\u001b[0m 2ms/step - accuracy: 0.9536 - loss: 0.1810\n",
            "Epoch 4/10\n",
            "\u001b[1m1875/1875\u001b[0m \u001b[32m━━━━━━━━━━━━━━━━━━━━\u001b[0m\u001b[37m\u001b[0m \u001b[1m3s\u001b[0m 2ms/step - accuracy: 0.9585 - loss: 0.1535\n",
            "Epoch 5/10\n",
            "\u001b[1m1875/1875\u001b[0m \u001b[32m━━━━━━━━━━━━━━━━━━━━\u001b[0m\u001b[37m\u001b[0m \u001b[1m3s\u001b[0m 2ms/step - accuracy: 0.9633 - loss: 0.1386\n",
            "Epoch 6/10\n",
            "\u001b[1m1875/1875\u001b[0m \u001b[32m━━━━━━━━━━━━━━━━━━━━\u001b[0m\u001b[37m\u001b[0m \u001b[1m4s\u001b[0m 2ms/step - accuracy: 0.9652 - loss: 0.1366\n",
            "Epoch 7/10\n",
            "\u001b[1m1875/1875\u001b[0m \u001b[32m━━━━━━━━━━━━━━━━━━━━\u001b[0m\u001b[37m\u001b[0m \u001b[1m3s\u001b[0m 2ms/step - accuracy: 0.9738 - loss: 0.1034\n",
            "Epoch 8/10\n",
            "\u001b[1m1875/1875\u001b[0m \u001b[32m━━━━━━━━━━━━━━━━━━━━\u001b[0m\u001b[37m\u001b[0m \u001b[1m5s\u001b[0m 2ms/step - accuracy: 0.9755 - loss: 0.0984\n",
            "Epoch 9/10\n",
            "\u001b[1m1875/1875\u001b[0m \u001b[32m━━━━━━━━━━━━━━━━━━━━\u001b[0m\u001b[37m\u001b[0m \u001b[1m5s\u001b[0m 2ms/step - accuracy: 0.9760 - loss: 0.1002\n",
            "Epoch 10/10\n",
            "\u001b[1m1875/1875\u001b[0m \u001b[32m━━━━━━━━━━━━━━━━━━━━\u001b[0m\u001b[37m\u001b[0m \u001b[1m3s\u001b[0m 2ms/step - accuracy: 0.9791 - loss: 0.0813\n"
          ]
        },
        {
          "output_type": "execute_result",
          "data": {
            "text/plain": [
              "<keras.src.callbacks.history.History at 0x78b8cc3340a0>"
            ]
          },
          "metadata": {},
          "execution_count": 12
        }
      ]
    },
    {
      "cell_type": "markdown",
      "source": [
        "**Model eğitimi yukarıdaki gibi tamamlanmıştır. Accuracy değeri 1'e ne kadar yakın olursa doğruluğu da o kadar yüksektir.**"
      ],
      "metadata": {
        "id": "XwQz-7YTL0OZ"
      }
    },
    {
      "cell_type": "code",
      "source": [
        "#Eğitim verilerinin normalleştirilmesi\n",
        "import numpy as np\n",
        "X_train = (X_train / 255.0).astype(np.float32)\n",
        "X_test = (X_test / 255.0).astype(np.float32)"
      ],
      "metadata": {
        "id": "CvW8YXwwLzCm"
      },
      "execution_count": 14,
      "outputs": []
    },
    {
      "cell_type": "markdown",
      "source": [
        "**Veriseti, 28x28 boyutlarında ve 0-255 aralığında piksel değerlerden oluşmaktadır. Modelin ağırlıklarına ve bias'ına bakıldığında -1 ile 1 aralığındaki küçük sayılardan oluştuğu görülmektedir. Veriler, katmanlardaki bu katsayılarla çarpılarak çıktı katmanına gider. Bu veriseti 0-255 aralığındaki değer olduğu için matris çarpımlarından büyük sonuçlar çıkar ve bu durum parametrenin eğitilmesini ve optimum değere gelmesini zorlaştırır. Bu sorunlarla karşılaşmamak için veriler normalleştirilebilir. Normalleştirme işlemi verileri 0-1 gibi belirli bir aralığa getirmek demektir. Veriseti bu aralığa getirmek için basitçe 255'e bölünebilir.**\n",
        "**Verisetini yüklemek için kullanılan \"load_data()\" metodu, verisetini Numpy formatında belleğe yükler. Numpy'da ondalıklı sayılar ön tanımlı olarak 64 bittir. Keras modeldeki parametreler ise 32 bitlik ondalıklı sayılardır. Dolayısıyla veriler normalleştirilikrken 32 bite de çevrilmelidir.**"
      ],
      "metadata": {
        "id": "1CvB6i6IMBbI"
      }
    },
    {
      "cell_type": "code",
      "source": [
        "#Normalleştirilen eğitim verileriyle modelin tekrar eğitilmesi\n",
        "model.fit(X_train, y_train, epochs = 10)"
      ],
      "metadata": {
        "colab": {
          "base_uri": "https://localhost:8080/",
          "height": 0
        },
        "id": "Z6S7v4MJNZok",
        "outputId": "87705065-b3fc-4228-e611-cefdf7fc8f70"
      },
      "execution_count": 16,
      "outputs": [
        {
          "output_type": "stream",
          "name": "stdout",
          "text": [
            "Epoch 1/10\n",
            "\u001b[1m1875/1875\u001b[0m \u001b[32m━━━━━━━━━━━━━━━━━━━━\u001b[0m\u001b[37m\u001b[0m \u001b[1m4s\u001b[0m 2ms/step - accuracy: 0.8969 - loss: 0.2947\n",
            "Epoch 2/10\n",
            "\u001b[1m1875/1875\u001b[0m \u001b[32m━━━━━━━━━━━━━━━━━━━━\u001b[0m\u001b[37m\u001b[0m \u001b[1m5s\u001b[0m 2ms/step - accuracy: 0.9903 - loss: 0.0315\n",
            "Epoch 3/10\n",
            "\u001b[1m1875/1875\u001b[0m \u001b[32m━━━━━━━━━━━━━━━━━━━━\u001b[0m\u001b[37m\u001b[0m \u001b[1m5s\u001b[0m 2ms/step - accuracy: 0.9909 - loss: 0.0271\n",
            "Epoch 4/10\n",
            "\u001b[1m1875/1875\u001b[0m \u001b[32m━━━━━━━━━━━━━━━━━━━━\u001b[0m\u001b[37m\u001b[0m \u001b[1m3s\u001b[0m 2ms/step - accuracy: 0.9933 - loss: 0.0210\n",
            "Epoch 5/10\n",
            "\u001b[1m1875/1875\u001b[0m \u001b[32m━━━━━━━━━━━━━━━━━━━━\u001b[0m\u001b[37m\u001b[0m \u001b[1m4s\u001b[0m 2ms/step - accuracy: 0.9938 - loss: 0.0202\n",
            "Epoch 6/10\n",
            "\u001b[1m1875/1875\u001b[0m \u001b[32m━━━━━━━━━━━━━━━━━━━━\u001b[0m\u001b[37m\u001b[0m \u001b[1m3s\u001b[0m 2ms/step - accuracy: 0.9946 - loss: 0.0169\n",
            "Epoch 7/10\n",
            "\u001b[1m1875/1875\u001b[0m \u001b[32m━━━━━━━━━━━━━━━━━━━━\u001b[0m\u001b[37m\u001b[0m \u001b[1m5s\u001b[0m 2ms/step - accuracy: 0.9951 - loss: 0.0147\n",
            "Epoch 8/10\n",
            "\u001b[1m1875/1875\u001b[0m \u001b[32m━━━━━━━━━━━━━━━━━━━━\u001b[0m\u001b[37m\u001b[0m \u001b[1m5s\u001b[0m 2ms/step - accuracy: 0.9962 - loss: 0.0125\n",
            "Epoch 9/10\n",
            "\u001b[1m1875/1875\u001b[0m \u001b[32m━━━━━━━━━━━━━━━━━━━━\u001b[0m\u001b[37m\u001b[0m \u001b[1m5s\u001b[0m 2ms/step - accuracy: 0.9961 - loss: 0.0124\n",
            "Epoch 10/10\n",
            "\u001b[1m1875/1875\u001b[0m \u001b[32m━━━━━━━━━━━━━━━━━━━━\u001b[0m\u001b[37m\u001b[0m \u001b[1m4s\u001b[0m 2ms/step - accuracy: 0.9972 - loss: 0.0089\n"
          ]
        },
        {
          "output_type": "execute_result",
          "data": {
            "text/plain": [
              "<keras.src.callbacks.history.History at 0x78b8cc4ad720>"
            ]
          },
          "metadata": {},
          "execution_count": 16
        }
      ]
    },
    {
      "cell_type": "code",
      "source": [
        "#Modelin değerlendirilmesi\n",
        "model.evaluate(X_test, y_test)"
      ],
      "metadata": {
        "colab": {
          "base_uri": "https://localhost:8080/",
          "height": 0
        },
        "id": "Rbr1bhOUN5UJ",
        "outputId": "180827ff-4e8c-49b8-f903-4e080d5f00d2"
      },
      "execution_count": 17,
      "outputs": [
        {
          "output_type": "stream",
          "name": "stdout",
          "text": [
            "\u001b[1m313/313\u001b[0m \u001b[32m━━━━━━━━━━━━━━━━━━━━\u001b[0m\u001b[37m\u001b[0m \u001b[1m2s\u001b[0m 4ms/step - accuracy: 0.9775 - loss: 0.1541\n"
          ]
        },
        {
          "output_type": "execute_result",
          "data": {
            "text/plain": [
              "[0.12159538269042969, 0.9814000129699707]"
            ]
          },
          "metadata": {},
          "execution_count": 17
        }
      ]
    },
    {
      "cell_type": "markdown",
      "source": [
        "**Modelin test verileri üzerindeki doğruluk değeri 0.97'dir. Bu değer eğitimin doğruluk değerinden biraz daha küçüktür. Bu iki değerin birbirine çok yakın olması istenir. Bu modelde eğitim doğruluğu test doğruluğundan biraz daha yüksek olduğu için çok az ezberleme problemi vardır. Regülerleştirme teknikleriyle bu problem çözülebilir.**"
      ],
      "metadata": {
        "id": "_d0QeZUsN_Qi"
      }
    },
    {
      "cell_type": "markdown",
      "source": [
        "**Verileri belli bir aralığa getirmenin bir diğer yolu da standartlaştırma işlemidir. Eğer veriler normal dağılıyorsa iyi bir model kurmak için verileri standartlaştırmak gerekir. Veriler standartlaştırılırken verilerin ortalamasını ve standart sapmasını bulmak gerekir.**"
      ],
      "metadata": {
        "id": "5T1AlRvTOh_B"
      }
    },
    {
      "cell_type": "code",
      "source": [
        "#Verilerin standartlaştırılması\n",
        "(X_train, y_train), (X_test, y_test) = mnist.load_data()\n",
        "mean = np.mean(X_train)\n",
        "std = np.std(X_train)\n",
        "X_train = ((X_train - mean) / std).astype(np.float32)\n",
        "\n",
        "#Modelin standartlaştırılan verilerle tekrar eğitilmesi\n",
        "model.fit(X_train, y_train, epochs = 10)"
      ],
      "metadata": {
        "colab": {
          "base_uri": "https://localhost:8080/",
          "height": 0
        },
        "id": "lQ5bq4WgOzBw",
        "outputId": "026c4730-ed75-498e-d68e-2587219fdcc7"
      },
      "execution_count": 18,
      "outputs": [
        {
          "output_type": "stream",
          "name": "stdout",
          "text": [
            "Epoch 1/10\n",
            "\u001b[1m1875/1875\u001b[0m \u001b[32m━━━━━━━━━━━━━━━━━━━━\u001b[0m\u001b[37m\u001b[0m \u001b[1m3s\u001b[0m 2ms/step - accuracy: 0.9788 - loss: 0.2764\n",
            "Epoch 2/10\n",
            "\u001b[1m1875/1875\u001b[0m \u001b[32m━━━━━━━━━━━━━━━━━━━━\u001b[0m\u001b[37m\u001b[0m \u001b[1m5s\u001b[0m 2ms/step - accuracy: 0.9941 - loss: 0.0230\n",
            "Epoch 3/10\n",
            "\u001b[1m1875/1875\u001b[0m \u001b[32m━━━━━━━━━━━━━━━━━━━━\u001b[0m\u001b[37m\u001b[0m \u001b[1m4s\u001b[0m 2ms/step - accuracy: 0.9915 - loss: 0.0365\n",
            "Epoch 4/10\n",
            "\u001b[1m1875/1875\u001b[0m \u001b[32m━━━━━━━━━━━━━━━━━━━━\u001b[0m\u001b[37m\u001b[0m \u001b[1m5s\u001b[0m 2ms/step - accuracy: 0.9958 - loss: 0.0149\n",
            "Epoch 5/10\n",
            "\u001b[1m1875/1875\u001b[0m \u001b[32m━━━━━━━━━━━━━━━━━━━━\u001b[0m\u001b[37m\u001b[0m \u001b[1m6s\u001b[0m 2ms/step - accuracy: 0.9943 - loss: 0.0194\n",
            "Epoch 6/10\n",
            "\u001b[1m1875/1875\u001b[0m \u001b[32m━━━━━━━━━━━━━━━━━━━━\u001b[0m\u001b[37m\u001b[0m \u001b[1m4s\u001b[0m 2ms/step - accuracy: 0.9939 - loss: 0.0262\n",
            "Epoch 7/10\n",
            "\u001b[1m1875/1875\u001b[0m \u001b[32m━━━━━━━━━━━━━━━━━━━━\u001b[0m\u001b[37m\u001b[0m \u001b[1m5s\u001b[0m 2ms/step - accuracy: 0.9959 - loss: 0.0144\n",
            "Epoch 8/10\n",
            "\u001b[1m1875/1875\u001b[0m \u001b[32m━━━━━━━━━━━━━━━━━━━━\u001b[0m\u001b[37m\u001b[0m \u001b[1m5s\u001b[0m 2ms/step - accuracy: 0.9943 - loss: 0.0226\n",
            "Epoch 9/10\n",
            "\u001b[1m1875/1875\u001b[0m \u001b[32m━━━━━━━━━━━━━━━━━━━━\u001b[0m\u001b[37m\u001b[0m \u001b[1m3s\u001b[0m 2ms/step - accuracy: 0.9951 - loss: 0.0189\n",
            "Epoch 10/10\n",
            "\u001b[1m1875/1875\u001b[0m \u001b[32m━━━━━━━━━━━━━━━━━━━━\u001b[0m\u001b[37m\u001b[0m \u001b[1m6s\u001b[0m 2ms/step - accuracy: 0.9951 - loss: 0.0208\n"
          ]
        },
        {
          "output_type": "execute_result",
          "data": {
            "text/plain": [
              "<keras.src.callbacks.history.History at 0x78b8cb9d03d0>"
            ]
          },
          "metadata": {},
          "execution_count": 18
        }
      ]
    },
    {
      "cell_type": "markdown",
      "source": [
        "**Veriler daha öncesinde normalleştirildiği için 0-1 aralığındadır. Bu yüzden orijinal veriler tekrardan alınmış ve standartlaştırılmıştır.**"
      ],
      "metadata": {
        "id": "I2bweu5MPB8o"
      }
    }
  ]
}