{
  "nbformat": 4,
  "nbformat_minor": 0,
  "metadata": {
    "colab": {
      "provenance": [],
      "authorship_tag": "ABX9TyMOl7JQENtPtVrX1f5ztOqN",
      "include_colab_link": true
    },
    "kernelspec": {
      "name": "python3",
      "display_name": "Python 3"
    },
    "language_info": {
      "name": "python"
    }
  },
  "cells": [
    {
      "cell_type": "markdown",
      "metadata": {
        "id": "view-in-github",
        "colab_type": "text"
      },
      "source": [
        "<a href=\"https://colab.research.google.com/github/digdemorhan/Keras_With_Examples_For_Deep_Learning/blob/main/ModelSubclassingWithKeras.ipynb\" target=\"_parent\"><img src=\"https://colab.research.google.com/assets/colab-badge.svg\" alt=\"Open In Colab\"/></a>"
      ]
    },
    {
      "cell_type": "code",
      "execution_count": 1,
      "metadata": {
        "id": "tTQg0VL1mhBI"
      },
      "outputs": [],
      "source": [
        "#Verisetinin alınması\n",
        "from sklearn.datasets import fetch_california_housing\n",
        "\n",
        "housing = fetch_california_housing()"
      ]
    },
    {
      "cell_type": "code",
      "source": [
        "#Değişkenin tag'lerinin görüntülenmesi\n",
        "for i in housing:\n",
        "  print(i)"
      ],
      "metadata": {
        "colab": {
          "base_uri": "https://localhost:8080/",
          "height": 0
        },
        "id": "RvbZuTnOnCR-",
        "outputId": "4d697c5d-a937-4030-e1fe-3015a5123684"
      },
      "execution_count": 3,
      "outputs": [
        {
          "output_type": "stream",
          "name": "stdout",
          "text": [
            "data\n",
            "target\n",
            "frame\n",
            "target_names\n",
            "feature_names\n",
            "DESCR\n"
          ]
        }
      ]
    },
    {
      "cell_type": "code",
      "source": [
        "#Verisetinin eğitim ve test şeklinde parçalanması\n",
        "from sklearn.model_selection import train_test_split\n",
        "\n",
        "X_train_full, X_test, y_train_full, y_test = train_test_split(\n",
        "    housing.data, housing.target, random_state=42)"
      ],
      "metadata": {
        "id": "AufDmOninW6M"
      },
      "execution_count": 4,
      "outputs": []
    },
    {
      "cell_type": "code",
      "source": [
        "#Validation parametrelerinin oluşturulması\n",
        "X_train, X_valid, y_train, y_valid = train_test_split(\n",
        "    X_train_full, y_train_full, random_state=42)"
      ],
      "metadata": {
        "id": "3mv15Xainoa2"
      },
      "execution_count": 5,
      "outputs": []
    },
    {
      "cell_type": "code",
      "source": [
        "#Modelin mimarisinin oluşturulması\n",
        "import tensorflow as tf\n",
        "from tensorflow import keras\n",
        "\n",
        "class WideAndDeepModel(tf.keras.Model):\n",
        "  def __init__(self, units=30, activation=\"relu\", **kwargs):\n",
        "    super().__init__(**kwargs)\n",
        "    self.norm_layer_wide = tf.keras.layers.Normalization()\n",
        "    self.norm_layer_deep = tf.keras.layers.Normalization()\n",
        "    self.hidden1 = tf.keras.layers.Dense(units, activation=activation)\n",
        "    self.hidden2 = tf.keras.layers.Dense(units, activation=activation)\n",
        "    self.main_output = tf.keras.layers.Dense(1)\n",
        "\n",
        "  def call(self, inputs):\n",
        "    input_wide, input_deep = inputs\n",
        "    norm_wide = self.norm_layer_wide(input_wide)\n",
        "    norm_deep = self.norm_layer_deep(input_deep)\n",
        "    hidden1 = self.hidden1(norm_deep)\n",
        "    hidden2 = self.hidden2(hidden1)\n",
        "    concat = tf.keras.layers.concatenate([norm_wide, hidden2])\n",
        "    output = self.main_output(concat)\n",
        "    return output"
      ],
      "metadata": {
        "id": "C7C5ddsPnyNt"
      },
      "execution_count": 7,
      "outputs": []
    },
    {
      "cell_type": "code",
      "source": [
        "#Modelden örnek alınması\n",
        "tf.random.set_seed(42)\n",
        "model = WideAndDeepModel(30, activation=\"relu\", name=\"wide_and_deep\")"
      ],
      "metadata": {
        "id": "-RiRLLZ1aGYd"
      },
      "execution_count": 8,
      "outputs": []
    },
    {
      "cell_type": "code",
      "source": [
        "#Modelin compile edilmesi\n",
        "optimizer = tf.keras.optimizers.Adam(learning_rate = 1e-3)\n",
        "model.compile(\n",
        "    loss = \"mse\",\n",
        "    optimizer = optimizer,\n",
        "    metrics = [\"RootMeanSquaredError\"]\n",
        ")"
      ],
      "metadata": {
        "id": "OVbAPqx4ahAg"
      },
      "execution_count": 9,
      "outputs": []
    },
    {
      "cell_type": "code",
      "source": [
        "#Modelin girdilerinin ayarlanması\n",
        "X_train_wide, X_train_deep = X_train[:,:5], X_train[:,2:]\n",
        "X_valid_wide, X_valid_deep = X_valid[:,:5], X_valid[:,2:]\n",
        "X_test_wide, X_test_deep = X_test[:,:5], X_test[:,2:]"
      ],
      "metadata": {
        "id": "QOnnRGYaa2vI"
      },
      "execution_count": 10,
      "outputs": []
    },
    {
      "cell_type": "code",
      "source": [
        "#Modelin eğitimi\n",
        "model.norm_layer_deep.adapt(X_train_deep)\n",
        "model.norm_layer_wide.adapt(X_train_wide)\n",
        "\n",
        "history = model.fit(\n",
        "    (X_train_wide, X_train_deep),\n",
        "    y_train,\n",
        "    validation_data = ((X_valid_wide, X_valid_deep), y_valid),\n",
        "    epochs = 10,\n",
        ")"
      ],
      "metadata": {
        "colab": {
          "base_uri": "https://localhost:8080/",
          "height": 0
        },
        "id": "Cf9cqierbbo3",
        "outputId": "c5eb39bb-76f7-4733-a320-b57e1901a372"
      },
      "execution_count": 11,
      "outputs": [
        {
          "output_type": "stream",
          "name": "stdout",
          "text": [
            "Epoch 1/10\n",
            "\u001b[1m363/363\u001b[0m \u001b[32m━━━━━━━━━━━━━━━━━━━━\u001b[0m\u001b[37m\u001b[0m \u001b[1m2s\u001b[0m 2ms/step - RootMeanSquaredError: 1.5100 - loss: 2.3753 - val_RootMeanSquaredError: 0.8675 - val_loss: 0.7525\n",
            "Epoch 2/10\n",
            "\u001b[1m363/363\u001b[0m \u001b[32m━━━━━━━━━━━━━━━━━━━━\u001b[0m\u001b[37m\u001b[0m \u001b[1m1s\u001b[0m 2ms/step - RootMeanSquaredError: 0.7595 - loss: 0.5778 - val_RootMeanSquaredError: 0.7634 - val_loss: 0.5828\n",
            "Epoch 3/10\n",
            "\u001b[1m363/363\u001b[0m \u001b[32m━━━━━━━━━━━━━━━━━━━━\u001b[0m\u001b[37m\u001b[0m \u001b[1m1s\u001b[0m 2ms/step - RootMeanSquaredError: 0.6791 - loss: 0.4616 - val_RootMeanSquaredError: 0.6994 - val_loss: 0.4891\n",
            "Epoch 4/10\n",
            "\u001b[1m363/363\u001b[0m \u001b[32m━━━━━━━━━━━━━━━━━━━━\u001b[0m\u001b[37m\u001b[0m \u001b[1m1s\u001b[0m 2ms/step - RootMeanSquaredError: 0.6529 - loss: 0.4264 - val_RootMeanSquaredError: 0.8815 - val_loss: 0.7770\n",
            "Epoch 5/10\n",
            "\u001b[1m363/363\u001b[0m \u001b[32m━━━━━━━━━━━━━━━━━━━━\u001b[0m\u001b[37m\u001b[0m \u001b[1m2s\u001b[0m 3ms/step - RootMeanSquaredError: 0.6364 - loss: 0.4052 - val_RootMeanSquaredError: 0.9453 - val_loss: 0.8936\n",
            "Epoch 6/10\n",
            "\u001b[1m363/363\u001b[0m \u001b[32m━━━━━━━━━━━━━━━━━━━━\u001b[0m\u001b[37m\u001b[0m \u001b[1m1s\u001b[0m 3ms/step - RootMeanSquaredError: 0.6242 - loss: 0.3897 - val_RootMeanSquaredError: 0.9611 - val_loss: 0.9238\n",
            "Epoch 7/10\n",
            "\u001b[1m363/363\u001b[0m \u001b[32m━━━━━━━━━━━━━━━━━━━━\u001b[0m\u001b[37m\u001b[0m \u001b[1m1s\u001b[0m 3ms/step - RootMeanSquaredError: 0.6159 - loss: 0.3796 - val_RootMeanSquaredError: 0.7980 - val_loss: 0.6368\n",
            "Epoch 8/10\n",
            "\u001b[1m363/363\u001b[0m \u001b[32m━━━━━━━━━━━━━━━━━━━━\u001b[0m\u001b[37m\u001b[0m \u001b[1m2s\u001b[0m 2ms/step - RootMeanSquaredError: 0.6085 - loss: 0.3704 - val_RootMeanSquaredError: 0.9118 - val_loss: 0.8313\n",
            "Epoch 9/10\n",
            "\u001b[1m363/363\u001b[0m \u001b[32m━━━━━━━━━━━━━━━━━━━━\u001b[0m\u001b[37m\u001b[0m \u001b[1m1s\u001b[0m 2ms/step - RootMeanSquaredError: 0.6034 - loss: 0.3643 - val_RootMeanSquaredError: 0.8691 - val_loss: 0.7553\n",
            "Epoch 10/10\n",
            "\u001b[1m363/363\u001b[0m \u001b[32m━━━━━━━━━━━━━━━━━━━━\u001b[0m\u001b[37m\u001b[0m \u001b[1m1s\u001b[0m 2ms/step - RootMeanSquaredError: 0.5994 - loss: 0.3593 - val_RootMeanSquaredError: 1.0877 - val_loss: 1.1830\n"
          ]
        }
      ]
    },
    {
      "cell_type": "code",
      "source": [
        "#Modelin değerlendirilmesi\n",
        "eval_results = model.evaluate((X_test_wide, X_test_deep),y_test)\n",
        "eval_results"
      ],
      "metadata": {
        "colab": {
          "base_uri": "https://localhost:8080/",
          "height": 0
        },
        "id": "sSynOiCWcjMT",
        "outputId": "5f617f89-ee84-496d-b6ee-3b13b8ba3556"
      },
      "execution_count": 12,
      "outputs": [
        {
          "output_type": "stream",
          "name": "stdout",
          "text": [
            "\u001b[1m162/162\u001b[0m \u001b[32m━━━━━━━━━━━━━━━━━━━━\u001b[0m\u001b[37m\u001b[0m \u001b[1m0s\u001b[0m 1ms/step - RootMeanSquaredError: 0.5919 - loss: 0.3504\n"
          ]
        },
        {
          "output_type": "execute_result",
          "data": {
            "text/plain": [
              "[0.34819620847702026, 0.590081512928009]"
            ]
          },
          "metadata": {},
          "execution_count": 12
        }
      ]
    },
    {
      "cell_type": "code",
      "source": [
        "#Model tahmini\n",
        "X_new_wide, X_new_deep = X_test_wide[:3], X_test_deep[:3]\n",
        "y_pred = model.predict((X_new_wide, X_new_deep))\n",
        "y_pred"
      ],
      "metadata": {
        "colab": {
          "base_uri": "https://localhost:8080/",
          "height": 0
        },
        "id": "jP5XW3gkc5YJ",
        "outputId": "81e265dd-ab69-4e7d-84ee-0a9ecb0451bb"
      },
      "execution_count": 13,
      "outputs": [
        {
          "output_type": "stream",
          "name": "stdout",
          "text": [
            "\u001b[1m1/1\u001b[0m \u001b[32m━━━━━━━━━━━━━━━━━━━━\u001b[0m\u001b[37m\u001b[0m \u001b[1m0s\u001b[0m 118ms/step\n"
          ]
        },
        {
          "output_type": "execute_result",
          "data": {
            "text/plain": [
              "array([[0.4641111],\n",
              "       [1.6061474],\n",
              "       [3.58684  ]], dtype=float32)"
            ]
          },
          "metadata": {},
          "execution_count": 13
        }
      ]
    },
    {
      "cell_type": "code",
      "source": [
        "#Gerçek değerlerle karşılaştırılması\n",
        "y_test[:3]"
      ],
      "metadata": {
        "colab": {
          "base_uri": "https://localhost:8080/",
          "height": 0
        },
        "id": "jc3yDww1dWIQ",
        "outputId": "ef92cd1f-347b-40eb-b94a-a67f6b55dd61"
      },
      "execution_count": 14,
      "outputs": [
        {
          "output_type": "execute_result",
          "data": {
            "text/plain": [
              "array([0.477  , 0.458  , 5.00001])"
            ]
          },
          "metadata": {},
          "execution_count": 14
        }
      ]
    }
  ]
}