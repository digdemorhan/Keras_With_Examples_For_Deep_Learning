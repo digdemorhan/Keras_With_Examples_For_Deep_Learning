{
  "nbformat": 4,
  "nbformat_minor": 0,
  "metadata": {
    "colab": {
      "provenance": [],
      "authorship_tag": "ABX9TyOY+dbUvpUd7NTVX8vNSEF4",
      "include_colab_link": true
    },
    "kernelspec": {
      "name": "python3",
      "display_name": "Python 3"
    },
    "language_info": {
      "name": "python"
    }
  },
  "cells": [
    {
      "cell_type": "markdown",
      "metadata": {
        "id": "view-in-github",
        "colab_type": "text"
      },
      "source": [
        "<a href=\"https://colab.research.google.com/github/digdemorhan/Keras_With_Examples_For_Deep_Learning/blob/main/KerasCustomLayer.ipynb\" target=\"_parent\"><img src=\"https://colab.research.google.com/assets/colab-badge.svg\" alt=\"Open In Colab\"/></a>"
      ]
    },
    {
      "cell_type": "code",
      "execution_count": null,
      "metadata": {
        "id": "Ed5dc7-6ddkn"
      },
      "outputs": [],
      "source": [
        "import tensorflow as tf\n",
        "from tensorflow import keras"
      ]
    },
    {
      "cell_type": "markdown",
      "source": [
        "***Linear isimli bir class oluşturulmuş ve keras.layers.Layer'dan miras almıştır.***\n",
        "\n",
        "***init fonksiyonu: Katmanın bileşenleri tanımlanır.***\n",
        "\n",
        "***call fonksiyonu: Katmanın yapacağı işler belirlenir.***"
      ],
      "metadata": {
        "id": "hwkfEb1zd9kx"
      }
    },
    {
      "cell_type": "code",
      "source": [
        "class Linear(keras.layers.Layer):\n",
        "  def __init__(self, units=32, input_dim=32):\n",
        "    super(Linear, self).__init__()\n",
        "    #Ağırlıkların oluşturulması\n",
        "    w_init = tf.random_normal_initializer()\n",
        "    self.w = tf.Variable(\n",
        "        initial_value = w_init(shape=(input_dim, units), dtype=\"float32\"),\n",
        "        trainable = True #Ağırlıklar back-propagation yöntemiyle eğitilebilir\n",
        "    )\n",
        "    #Bias oluşturulması\n",
        "    b_init = tf.zeros_initializer()\n",
        "    self.b = tf.Variable(\n",
        "        initial_value = b_init(shape=(units,), dtype=\"float32\"),\n",
        "        trainable = True\n",
        "    )\n",
        "  #Call metodunun oluşturulması\n",
        "  def call(self, inputs):\n",
        "    return tf.matmul(inputs, self.w) + self.b"
      ],
      "metadata": {
        "id": "BAtcN0Zbd9JD"
      },
      "execution_count": null,
      "outputs": []
    },
    {
      "cell_type": "code",
      "source": [
        "#1 değerlerini içeren 2x2'lik matris oluşturulması\n",
        "x = tf.ones((2,2))\n",
        "print(x)"
      ],
      "metadata": {
        "colab": {
          "base_uri": "https://localhost:8080/"
        },
        "id": "wt4-nTWEk-sS",
        "outputId": "497dc87e-cb9d-4788-b971-24d16d36eb9b"
      },
      "execution_count": null,
      "outputs": [
        {
          "output_type": "stream",
          "name": "stdout",
          "text": [
            "tf.Tensor(\n",
            "[[1. 1.]\n",
            " [1. 1.]], shape=(2, 2), dtype=float32)\n"
          ]
        }
      ]
    },
    {
      "cell_type": "code",
      "source": [
        "linear_layer = Linear(4,2) #nöron sayısı 4 ve girdi boyutu 2\n",
        "#Verinin oluşturulan katmandan geçirilmesi\n",
        "y = linear_layer(x)\n",
        "print(y)"
      ],
      "metadata": {
        "colab": {
          "base_uri": "https://localhost:8080/"
        },
        "id": "6CST53d_lUik",
        "outputId": "7b0810cd-edc0-4c12-cefc-6b417e797663"
      },
      "execution_count": null,
      "outputs": [
        {
          "output_type": "stream",
          "name": "stdout",
          "text": [
            "tf.Tensor(\n",
            "[[-0.07939168 -0.07642309  0.10071824  0.09242015]\n",
            " [-0.07939168 -0.07642309  0.10071824  0.09242015]], shape=(2, 4), dtype=float32)\n"
          ]
        }
      ]
    },
    {
      "cell_type": "code",
      "source": [
        "#Katmanda kullanılan ağırlıkların ve bias değerlerinin görülmesi\n",
        "print(linear_layer.w)\n",
        "print(linear_layer.b)"
      ],
      "metadata": {
        "colab": {
          "base_uri": "https://localhost:8080/"
        },
        "id": "q0a5gtjEmdBk",
        "outputId": "64087e11-4663-4385-dec2-2ee5acc728b4"
      },
      "execution_count": null,
      "outputs": [
        {
          "output_type": "stream",
          "name": "stdout",
          "text": [
            "<tf.Variable 'Variable:0' shape=(2, 4) dtype=float32, numpy=\n",
            "array([[-0.07741177, -0.02923107,  0.07154857, -0.00600545],\n",
            "       [-0.00197991, -0.04719202,  0.02916968,  0.0984256 ]],\n",
            "      dtype=float32)>\n",
            "<tf.Variable 'Variable:0' shape=(4,) dtype=float32, numpy=array([0., 0., 0., 0.], dtype=float32)>\n"
          ]
        }
      ]
    },
    {
      "cell_type": "code",
      "source": [
        "from tensorflow.python.ops.init_ops_v2 import Initializer\n",
        "#add_weight metodu ile ağırlıkların tanımlanması\n",
        "class Linear(keras.layers.Layer):\n",
        "  def __init__(self, units=32, input_dim=32):\n",
        "    super(Linear, self).__init__()\n",
        "    self.w = self.add_weight(shape=(input_dim, units),\n",
        "                             initializer = \"random_normal\",\n",
        "                             trainable = True)\n",
        "    self.b = self.add_weight(shape=(units,),\n",
        "                             initializer = \"zeros\",\n",
        "                             trainable = True)\n",
        "  #Call metodunun oluşturulması\n",
        "  def call(self, inputs):\n",
        "    return tf.matmul(inputs, self.w) + self.b"
      ],
      "metadata": {
        "id": "vMjQjjmfykCd"
      },
      "execution_count": null,
      "outputs": []
    },
    {
      "cell_type": "code",
      "source": [
        "#Örnek veriler ile katmanın çalıştırılması\n",
        "x = tf.ones((2,2))\n",
        "linear_layer = Linear(4,2)\n",
        "y = linear_layer(x)\n",
        "print(y)"
      ],
      "metadata": {
        "colab": {
          "base_uri": "https://localhost:8080/"
        },
        "id": "rXXUU4Fs0XJ2",
        "outputId": "c030b353-b036-4880-832c-27eb773eb59a"
      },
      "execution_count": null,
      "outputs": [
        {
          "output_type": "stream",
          "name": "stdout",
          "text": [
            "tf.Tensor(\n",
            "[[ 0.10139559 -0.03959316 -0.01549093 -0.01182913]\n",
            " [ 0.10139559 -0.03959316 -0.01549093 -0.01182913]], shape=(2, 4), dtype=float32)\n"
          ]
        }
      ]
    },
    {
      "cell_type": "code",
      "source": [
        "#Girdi boyutu parametre olarak verilmeden katman oluşturulması\n",
        "class Linear(keras.layers.Layer):\n",
        "  def __init__(self, units=32):\n",
        "    super(Linear, self).__init__()\n",
        "    self.units = units\n",
        "  #Ağırlıkların oluşturulması\n",
        "  def build(self, input_shape):\n",
        "      self.w = self.add_weight(shape=(input_shape[-1], self.units),\n",
        "                               initializer = \"random_normal\",\n",
        "                               trainable = True)\n",
        "      self.b = self.add_weight(shape=(self.units,),\n",
        "                               initializer = \"random_normal\",\n",
        "                               trainable = True)\n",
        "  #Call metodunun oluşturulması\n",
        "  def call(self, inputs):\n",
        "    return tf.matmul(inputs, self.w) + self.b\n"
      ],
      "metadata": {
        "id": "peAkjH-n2-GP"
      },
      "execution_count": null,
      "outputs": []
    },
    {
      "cell_type": "code",
      "source": [
        "#Katman örneğinin alınması\n",
        "linear_layer = Linear(32) #sadece nöron değeri alındı, girdi boyutu verilmedi\n",
        "y = linear_layer(x)\n",
        "print(y)"
      ],
      "metadata": {
        "colab": {
          "base_uri": "https://localhost:8080/"
        },
        "id": "hEH3tb9u4R4x",
        "outputId": "5fd98cbd-528e-401c-8731-7b6687e64b58"
      },
      "execution_count": null,
      "outputs": [
        {
          "output_type": "stream",
          "name": "stdout",
          "text": [
            "tf.Tensor(\n",
            "[[ 0.07690775 -0.00634513  0.15965573  0.08545148 -0.06408241 -0.11090479\n",
            "  -0.09871972 -0.09781678 -0.022215   -0.08527908 -0.08241413  0.01207876\n",
            "   0.13015804  0.02233273  0.0311064  -0.00754188  0.03806047 -0.02302093\n",
            "  -0.0555428   0.09757417  0.01983105  0.13677038 -0.07714042  0.08077806\n",
            "   0.10437647 -0.17869686  0.09256818 -0.07262797  0.04237331  0.02696074\n",
            "   0.08513233  0.00655323]\n",
            " [ 0.07690775 -0.00634513  0.15965573  0.08545148 -0.06408241 -0.11090479\n",
            "  -0.09871972 -0.09781678 -0.022215   -0.08527908 -0.08241413  0.01207876\n",
            "   0.13015804  0.02233273  0.0311064  -0.00754188  0.03806047 -0.02302093\n",
            "  -0.0555428   0.09757417  0.01983105  0.13677038 -0.07714042  0.08077806\n",
            "   0.10437647 -0.17869686  0.09256818 -0.07262797  0.04237331  0.02696074\n",
            "   0.08513233  0.00655323]], shape=(2, 32), dtype=float32)\n"
          ]
        }
      ]
    },
    {
      "cell_type": "code",
      "source": [
        "#Art arda gelen katmanların birleştirilmesi\n",
        "class MLPBlock(keras.layers.Layer):\n",
        "  def __init__(self):\n",
        "    super(MLPBlock, self).__init__()\n",
        "    self.linear_1 = Linear(32)\n",
        "    self.linear_2 = Linear(32)\n",
        "    self.linear_3 = Linear(1)\n",
        "  #Call metodunun oluşturulması\n",
        "  def call(self, inputs):\n",
        "    x = self.linear_1(inputs)\n",
        "    x = tf.nn.relu(x)\n",
        "    x = self.linear_2(x)\n",
        "    x = tf.nn.relu(x)\n",
        "    return self.linear_3(x)"
      ],
      "metadata": {
        "id": "JNVTCOIb45DJ"
      },
      "execution_count": null,
      "outputs": []
    },
    {
      "cell_type": "code",
      "source": [
        "#MLPBlock sınıfından örnek alınması\n",
        "mlp = MLPBlock()\n",
        "y = mlp(tf.ones(shape=(3,64)))\n"
      ],
      "metadata": {
        "id": "M5i4bkcE6UrJ"
      },
      "execution_count": null,
      "outputs": []
    },
    {
      "cell_type": "code",
      "source": [
        "#Ağırlıkların görüntülenmesi\n",
        "for weight in mlp.weights:\n",
        "  print(weight.numpy())"
      ],
      "metadata": {
        "colab": {
          "base_uri": "https://localhost:8080/"
        },
        "id": "QQJIM5T57tEn",
        "outputId": "c24899a1-6a81-48c8-ca8a-99e937095c6e"
      },
      "execution_count": null,
      "outputs": [
        {
          "output_type": "stream",
          "name": "stdout",
          "text": [
            "[[-0.02043233  0.03074252  0.01606071 ... -0.01995402  0.0018457\n",
            "  -0.11062484]\n",
            " [ 0.00922695 -0.02579582 -0.00732633 ... -0.04512377 -0.01808306\n",
            "   0.09827697]\n",
            " [ 0.05409205 -0.06161223 -0.06629013 ...  0.00246336 -0.04618117\n",
            "   0.01151854]\n",
            " ...\n",
            " [-0.01648197 -0.04132658 -0.02596946 ...  0.00598168  0.02528627\n",
            "   0.05343216]\n",
            " [-0.04229448  0.03447316 -0.03461614 ...  0.07299665 -0.02033533\n",
            "  -0.0296888 ]\n",
            " [ 0.06491765 -0.00724054 -0.02330712 ...  0.11028557  0.078206\n",
            "  -0.00770357]]\n",
            "[ 0.02763378 -0.03676413  0.01258137  0.02914702  0.02366941 -0.02128512\n",
            "  0.03752587 -0.05199597 -0.02023182  0.0155437  -0.01862787 -0.02912346\n",
            " -0.06639066 -0.09247016 -0.02395329 -0.071996    0.04897406 -0.0363383\n",
            "  0.08835216  0.00629579  0.00375932  0.01022203  0.02115201  0.02469125\n",
            " -0.03755471  0.04530199  0.11749784 -0.03897502 -0.00917242  0.10950817\n",
            "  0.06378492 -0.0779451 ]\n",
            "[[ 0.03607823 -0.01537471  0.00042428 ... -0.12802504 -0.04723136\n",
            "  -0.04839142]\n",
            " [-0.04036984 -0.06282465 -0.04769212 ... -0.05025252 -0.05066032\n",
            "   0.09531473]\n",
            " [-0.05690602 -0.06674689 -0.06796452 ...  0.03489837  0.02347081\n",
            "  -0.04812549]\n",
            " ...\n",
            " [-0.10879224  0.03199781  0.03848689 ...  0.00375448  0.03791869\n",
            "  -0.02725936]\n",
            " [-0.03418727 -0.05865479 -0.0051761  ... -0.05675513 -0.08251377\n",
            "  -0.06075558]\n",
            " [-0.02005226  0.03718312 -0.00885221 ...  0.04210096 -0.01425342\n",
            "   0.02442675]]\n",
            "[ 0.01345807 -0.00374402 -0.10893305  0.03948722  0.129264   -0.00480907\n",
            " -0.01023652 -0.03059979 -0.05434144 -0.03495346  0.04562001 -0.07202072\n",
            "  0.0820137  -0.0581319  -0.01022206 -0.04473681 -0.05500693  0.02188059\n",
            "  0.09851851  0.00509995  0.00019843  0.04218484 -0.11933612 -0.05779636\n",
            "  0.00172715 -0.01796468  0.05190141  0.00023103 -0.03336054  0.07748141\n",
            "  0.01136749  0.03452351]\n",
            "[[-0.02462037]\n",
            " [-0.05546561]\n",
            " [ 0.01432212]\n",
            " [-0.02900465]\n",
            " [-0.00372406]\n",
            " [-0.01865876]\n",
            " [ 0.07441226]\n",
            " [-0.03741862]\n",
            " [ 0.02833857]\n",
            " [ 0.03198968]\n",
            " [-0.09682314]\n",
            " [ 0.03229522]\n",
            " [ 0.00146636]\n",
            " [ 0.00712035]\n",
            " [ 0.00777205]\n",
            " [-0.0377055 ]\n",
            " [-0.04995636]\n",
            " [-0.00370245]\n",
            " [ 0.00682819]\n",
            " [-0.0658003 ]\n",
            " [-0.06647062]\n",
            " [-0.05914404]\n",
            " [-0.02620499]\n",
            " [-0.04752979]\n",
            " [-0.08057376]\n",
            " [-0.03743425]\n",
            " [ 0.05765305]\n",
            " [-0.05398456]\n",
            " [-0.01595331]\n",
            " [-0.07248961]\n",
            " [-0.04691518]\n",
            " [-0.00062821]]\n",
            "[0.03508208]\n"
          ]
        }
      ]
    }
  ]
}